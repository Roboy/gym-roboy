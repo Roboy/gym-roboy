{
 "cells": [
  {
   "cell_type": "code",
   "execution_count": 1,
   "metadata": {},
   "outputs": [],
   "source": [
    "import gym\n",
    "from gym import error, spaces, utils\n",
    "from gym.utils import seeding\n",
    "import rclpy\n",
    "from roboy_simulation_msgs.srv import GymStep\n",
    "from roboy_simulation_msgs.msg import JointState\n",
    "from roboy_simulation_msgs.srv import GymReset\n",
    "import numpy as np"
   ]
  },
  {
   "cell_type": "code",
   "execution_count": 2,
   "metadata": {},
   "outputs": [],
   "source": [
    "class MsjEnv(gym.GoalEnv):\n",
    "    #metadata = {'render.modes': ['human']}\n",
    "    def __init__(self):\n",
    "        rclpy.init()\n",
    "        self.node = rclpy.create_node('gym_client')\n",
    "        self.step_cli = self.node.create_client(GymStep, 'gym_step')\n",
    "        self.reset_cli = self.node.create_client(GymReset, 'gym_reset')\n",
    "        #self.seed()\n",
    "        #self.env_setup()\n",
    "\n",
    "\n",
    "        #max limit position for q\n",
    "        self.max_position = 3.14\n",
    "\n",
    "        #2cm/s for ldot\n",
    "        self.max_speed = 0.02\n",
    "    \n",
    "        #why do we need a sample goal -> desired goal for the training environment\n",
    "        #sample goal is the q given\n",
    "        #self.goal = self._sample_goal()\n",
    "\n",
    "        #obs is a dictionary which has observation, achieved goal and desired goal. Achieved goal is useful for HER algorithm\n",
    "        #obs = self._get_obs()\n",
    "\n",
    "        #ldot is the action space. -2cm/s to 2cm/s\n",
    "        self.action_space = spaces.Box(low=-self.max_speed, high=self.max_speed, shape=(8,), dtype='float32')\n",
    "        \n",
    "        #subscribe to the q and qdot. MSJ has 3 DOF q is a vector of 3. qdot has the same shape as q.\n",
    "        #self.observation_space = spaces.Box(low=self.low_state, high=self.high_state)\n",
    "        #enter the true joint limits\n",
    "        \"\"\"\n",
    "        self.observation_space = spaces.Dict(dict(\n",
    "            desired_goal=spaces.Box(-np.inf, np.inf, shape=obs['achieved_goal'].shape, dtype='float32'),\n",
    "            achieved_goal=spaces.Box(-np.inf, np.inf, shape=obs['achieved_goal'].shape, dtype='float32'),\n",
    "            observation=spaces.Box(-np.inf, np.inf, shape=obs['observation'].shape, dtype='float32'),\n",
    "        ))\n",
    "        \"\"\"\n",
    "\n",
    "    def __del__(self):\n",
    "        self.node.destroy_node()\n",
    "        rclpy.shutdown()\n",
    "        \n",
    "    # A function to initialize the random generator\n",
    "    def _seed(self, seed=None):\n",
    "        self.np_random, seed = seeding.np_random(seed)\n",
    "        return [seed]\n",
    "    def env_setup():\n",
    "        pass\n",
    "        \n",
    "\n",
    "    def step(self):\n",
    "        #action = np.clip(action, self.action_space.low, self.action_space.high)\n",
    "        #self._set_action(action) #set the topic on of target poses\n",
    "        #self.sim.step() #unpause the simulation, implement a ROS2 service to command CARDSflow\n",
    "        #obs = self._get_obs()\n",
    "        \n",
    "        #Cast action space to array given below\n",
    "        set_points = [ 0.01,0.01,0.01,0.015,0.01,0.02,0.02,0.02]\n",
    "        while not self.step_cli.wait_for_service(timeout_sec=1.0):\n",
    "            self.node.get_logger().info('service not available, waiting...')\n",
    "\n",
    "        step_size = 1.0\n",
    "        req = GymStep.Request()\n",
    "        res = GymStep.Response()\n",
    "        req.set_points = set_points\n",
    "        req.step_size = step_size\n",
    "        future = self.step_cli.call_async(req)\n",
    "        rclpy.spin_until_future_complete(self.node,future)\n",
    "        if future.result() is not None:\n",
    "            self.node.get_logger().info(\"result: %f\" % future.result().q[1])\n",
    "        return future.result()\n",
    "    \"\"\"\n",
    "        done = False\n",
    "        info = {\n",
    "            'is_success': self._is_success(obs['achieved_goal'], self.goal),\n",
    "        }\n",
    "        reward = self.compute_reward(obs['achieved_goal'], self.goal, info)\n",
    "        return obs, reward, done, info\n",
    "    \"\"\"\n",
    "    def reset(self):\n",
    "        #resetSim\n",
    "        #unpauseSim\n",
    "        #check topic publishers connection\n",
    "        step_size = 1.0\n",
    "        req = GymStep.Request()\n",
    "        res = GymStep.Response()\n",
    "        req.step_size = step_size\n",
    "        future = self.reset_cli.call_async(req)\n",
    "        rclpy.spin_until_future_complete(self.node,future)\n",
    "        if future.result() is not None:\n",
    "            self.node.get_logger().info(\"result: %f\" % future.result().q[1])\n",
    "        return future.result()\n",
    "    \n",
    "\n",
    "    def get_obs(self):\n",
    "        #ROS topics and stuff \n",
    "        #position and velocity of the end effector\n",
    "        #TO-DO subscribe to the q and qdot from ROS1_bridge\n",
    "        while not self.step_cli.wait_for_service(timeout_sec=1.0):\n",
    "            self.node.get_logger().info('service not available, waiting...')\n",
    "        req = GymStep.Request()\n",
    "        future = self.step_cli.call_async(req)\n",
    "        rclpy.spin_until_future_complete(self.node,future)\n",
    "\n",
    "        return future.result()\n",
    "        \"\"\"\n",
    "        robot_qpos, robot_qvel = robot_get_obs(self.sim)\n",
    "        achieved_goal = self._get_achieved_goal().ravel()\n",
    "        observation = np.concatenate([robot_qpos, robot_qvel, achieved_goal])\n",
    "        return {\n",
    "            'observation': observation.copy(),\n",
    "            'achieved_goal': achieved_goal.copy(),\n",
    "            'desired_goal': self.goal.copy(),\n",
    "        }\n",
    "        \"\"\"\n",
    "    \n",
    "    def _get_achieved_goal(self):\n",
    "        \n",
    "        #goal = [self.sim.data.get_site_xpos(name) for name in FINGERTIP_SITE_NAMES]\n",
    "        return np.array(goal).flatten()\n",
    "    \n",
    "    def compute_reward(self, achieved_goal, goal, info):\n",
    "        d = goal_distance(achieved_goal, goal)\n",
    "        if self.reward_type == 'sparse':\n",
    "            return -(d > self.distance_threshold).astype(np.float32)\n",
    "        else:\n",
    "            return -d\n",
    "\n"
   ]
  },
  {
   "cell_type": "code",
   "execution_count": 3,
   "metadata": {},
   "outputs": [],
   "source": [
    "#rclpy.shutdown()\n",
    "env = MsjEnv()\n",
    "\n"
   ]
  },
  {
   "cell_type": "code",
   "execution_count": 4,
   "metadata": {
    "scrolled": true
   },
   "outputs": [
    {
     "name": "stdout",
     "output_type": "stream",
     "text": [
      "roboy_simulation_msgs.srv.GymStep_Response(q=[0.14620553504372863, 0.005424070458055749, -0.13293526060327596], qdot=[0.0, 0.0, 0.0])\n"
     ]
    }
   ],
   "source": [
    "q = env.get_obs()\n",
    "print(q)"
   ]
  },
  {
   "cell_type": "code",
   "execution_count": 19,
   "metadata": {},
   "outputs": [
    {
     "name": "stdout",
     "output_type": "stream",
     "text": [
      "roboy_simulation_msgs.srv.GymStep_Response(q=[0.21515336087124917, 0.0974757112685054, -1.0690345169377136], qdot=[0.0, 0.0, 0.0])\n"
     ]
    }
   ],
   "source": [
    "q = env.step()\n",
    "print(q)"
   ]
  },
  {
   "cell_type": "code",
   "execution_count": 6,
   "metadata": {
    "scrolled": true
   },
   "outputs": [
    {
     "name": "stdout",
     "output_type": "stream",
     "text": [
      "roboy_simulation_msgs.srv.GymReset_Response(q=[0.0, 0.0, 0.0], qdot=[0.0, 0.0, 0.0])\n"
     ]
    }
   ],
   "source": [
    "q = env.reset()\n",
    "print(q)"
   ]
  },
  {
   "cell_type": "code",
   "execution_count": 7,
   "metadata": {},
   "outputs": [
    {
     "data": {
      "text/plain": [
       "list"
      ]
     },
     "execution_count": 7,
     "metadata": {},
     "output_type": "execute_result"
    }
   ],
   "source": [
    "type(q.q)"
   ]
  },
  {
   "cell_type": "code",
   "execution_count": 8,
   "metadata": {},
   "outputs": [
    {
     "data": {
      "text/plain": [
       "[0.0, 0.0, 0.0]"
      ]
     },
     "execution_count": 8,
     "metadata": {},
     "output_type": "execute_result"
    }
   ],
   "source": [
    "q.qdot"
   ]
  },
  {
   "cell_type": "code",
   "execution_count": 9,
   "metadata": {},
   "outputs": [],
   "source": [
    "class MsjROSBridgeProxy():\n",
    "\n",
    "    def __init__(self):\n",
    "        rclpy.init()\n",
    "        self.node = rclpy.create_node('gym_client')\n",
    "        self.step_cli = self.node.create_client(GymStep, 'gym_step')\n",
    "        self.reset_cli = self.node.create_client(GymReset, 'gym_reset')\n",
    "    \n",
    "    def __del__(self):\n",
    "        self.node.destroy_node()\n",
    "        rclpy.shutdown()\n",
    "\n",
    "\n",
    "    def forward_reset_command(self):\n",
    "        step_size = 1.0\n",
    "        req = GymStep.Request()\n",
    "        res = GymStep.Response()\n",
    "        req.step_size = step_size\n",
    "        future = self.reset_cli.call_async(req)\n",
    "        rclpy.spin_until_future_complete(self.node,future)\n",
    "        if future.result() is not None:\n",
    "            self.node.get_logger().info(\"result: %f\" % future.result().q[1])\n",
    "        q = future.result()\n",
    "        return MsjRobotState(joint_angle=q.q, joint_vel=q.qdot)"
   ]
  },
  {
   "cell_type": "code",
   "execution_count": 10,
   "metadata": {},
   "outputs": [],
   "source": [
    "def test_msj_ros_bridge_proxy():\n",
    "    \"\"\"reset function sets all joint angles to zero in simulation\"\"\"\n",
    "    #assert \"observation\" in obs\n",
    "    proxy = MsjROSBridgeProxy()\n",
    "    new_robot_state = proxy.forward_reset_command()\n",
    "    assert new_robot_state.joint_angle == [0,0,0]\n",
    "    assert new_robot_state.joint_velocity == [0,0,0]"
   ]
  },
  {
   "cell_type": "code",
   "execution_count": 11,
   "metadata": {},
   "outputs": [
    {
     "ename": "RuntimeError",
     "evalue": "Failed to init: rcl_init called while already initialized, at /home/alex/ros2_install/src/ros2/rcl/rcl/src/rcl/rcl.c:75",
     "output_type": "error",
     "traceback": [
      "\u001b[0;31m---------------------------------------------------------------------------\u001b[0m",
      "\u001b[0;31mRuntimeError\u001b[0m                              Traceback (most recent call last)",
      "\u001b[0;32m<ipython-input-11-faaf7e56b4ed>\u001b[0m in \u001b[0;36m<module>\u001b[0;34m\u001b[0m\n\u001b[0;32m----> 1\u001b[0;31m \u001b[0mtest_msj_ros_bridge_proxy\u001b[0m\u001b[0;34m(\u001b[0m\u001b[0;34m)\u001b[0m\u001b[0;34m\u001b[0m\u001b[0m\n\u001b[0m",
      "\u001b[0;32m<ipython-input-10-20cc49da1b35>\u001b[0m in \u001b[0;36mtest_msj_ros_bridge_proxy\u001b[0;34m()\u001b[0m\n\u001b[1;32m      2\u001b[0m     \u001b[0;34m\"\"\"reset function sets all joint angles to zero in simulation\"\"\"\u001b[0m\u001b[0;34m\u001b[0m\u001b[0m\n\u001b[1;32m      3\u001b[0m     \u001b[0;31m#assert \"observation\" in obs\u001b[0m\u001b[0;34m\u001b[0m\u001b[0;34m\u001b[0m\u001b[0m\n\u001b[0;32m----> 4\u001b[0;31m     \u001b[0mproxy\u001b[0m \u001b[0;34m=\u001b[0m \u001b[0mMsjROSBridgeProxy\u001b[0m\u001b[0;34m(\u001b[0m\u001b[0;34m)\u001b[0m\u001b[0;34m\u001b[0m\u001b[0m\n\u001b[0m\u001b[1;32m      5\u001b[0m     \u001b[0mnew_robot_state\u001b[0m \u001b[0;34m=\u001b[0m \u001b[0mproxy\u001b[0m\u001b[0;34m.\u001b[0m\u001b[0mforward_reset_command\u001b[0m\u001b[0;34m(\u001b[0m\u001b[0;34m)\u001b[0m\u001b[0;34m\u001b[0m\u001b[0m\n\u001b[1;32m      6\u001b[0m     \u001b[0;32massert\u001b[0m \u001b[0mnew_robot_state\u001b[0m\u001b[0;34m.\u001b[0m\u001b[0mjoint_angle\u001b[0m \u001b[0;34m==\u001b[0m \u001b[0;34m[\u001b[0m\u001b[0;36m0\u001b[0m\u001b[0;34m,\u001b[0m\u001b[0;36m0\u001b[0m\u001b[0;34m,\u001b[0m\u001b[0;36m0\u001b[0m\u001b[0;34m]\u001b[0m\u001b[0;34m\u001b[0m\u001b[0m\n",
      "\u001b[0;32m<ipython-input-9-74662f9d1abe>\u001b[0m in \u001b[0;36m__init__\u001b[0;34m(self)\u001b[0m\n\u001b[1;32m      2\u001b[0m \u001b[0;34m\u001b[0m\u001b[0m\n\u001b[1;32m      3\u001b[0m     \u001b[0;32mdef\u001b[0m \u001b[0m__init__\u001b[0m\u001b[0;34m(\u001b[0m\u001b[0mself\u001b[0m\u001b[0;34m)\u001b[0m\u001b[0;34m:\u001b[0m\u001b[0;34m\u001b[0m\u001b[0m\n\u001b[0;32m----> 4\u001b[0;31m         \u001b[0mrclpy\u001b[0m\u001b[0;34m.\u001b[0m\u001b[0minit\u001b[0m\u001b[0;34m(\u001b[0m\u001b[0;34m)\u001b[0m\u001b[0;34m\u001b[0m\u001b[0m\n\u001b[0m\u001b[1;32m      5\u001b[0m         \u001b[0mself\u001b[0m\u001b[0;34m.\u001b[0m\u001b[0mnode\u001b[0m \u001b[0;34m=\u001b[0m \u001b[0mrclpy\u001b[0m\u001b[0;34m.\u001b[0m\u001b[0mcreate_node\u001b[0m\u001b[0;34m(\u001b[0m\u001b[0;34m'gym_client'\u001b[0m\u001b[0;34m)\u001b[0m\u001b[0;34m\u001b[0m\u001b[0m\n\u001b[1;32m      6\u001b[0m         \u001b[0mself\u001b[0m\u001b[0;34m.\u001b[0m\u001b[0mstep_cli\u001b[0m \u001b[0;34m=\u001b[0m \u001b[0mself\u001b[0m\u001b[0;34m.\u001b[0m\u001b[0mnode\u001b[0m\u001b[0;34m.\u001b[0m\u001b[0mcreate_client\u001b[0m\u001b[0;34m(\u001b[0m\u001b[0mGymStep\u001b[0m\u001b[0;34m,\u001b[0m \u001b[0;34m'gym_step'\u001b[0m\u001b[0;34m)\u001b[0m\u001b[0;34m\u001b[0m\u001b[0m\n",
      "\u001b[0;32m~/ros2_install/install/rclpy/lib/python3.5/site-packages/rclpy/__init__.py\u001b[0m in \u001b[0;36minit\u001b[0;34m(args)\u001b[0m\n\u001b[1;32m     25\u001b[0m     \u001b[0;32mfrom\u001b[0m \u001b[0mrclpy\u001b[0m\u001b[0;34m.\u001b[0m\u001b[0mimpl\u001b[0m\u001b[0;34m.\u001b[0m\u001b[0mimplementation_singleton\u001b[0m \u001b[0;32mimport\u001b[0m \u001b[0mrclpy_implementation\u001b[0m\u001b[0;34m\u001b[0m\u001b[0m\n\u001b[1;32m     26\u001b[0m     return rclpy_implementation.rclpy_init(\n\u001b[0;32m---> 27\u001b[0;31m         args if args is not None else sys.argv)\n\u001b[0m\u001b[1;32m     28\u001b[0m \u001b[0;34m\u001b[0m\u001b[0m\n\u001b[1;32m     29\u001b[0m \u001b[0;34m\u001b[0m\u001b[0m\n",
      "\u001b[0;31mRuntimeError\u001b[0m: Failed to init: rcl_init called while already initialized, at /home/alex/ros2_install/src/ros2/rcl/rcl/src/rcl/rcl.c:75"
     ]
    }
   ],
   "source": [
    "test_msj_ros_bridge_proxy()"
   ]
  },
  {
   "cell_type": "code",
   "execution_count": null,
   "metadata": {},
   "outputs": [],
   "source": []
  }
 ],
 "metadata": {
  "kernelspec": {
   "display_name": "Python 3",
   "language": "python",
   "name": "python3"
  },
  "language_info": {
   "codemirror_mode": {
    "name": "ipython",
    "version": 3
   },
   "file_extension": ".py",
   "mimetype": "text/x-python",
   "name": "python",
   "nbconvert_exporter": "python",
   "pygments_lexer": "ipython3",
   "version": "3.5.2"
  }
 },
 "nbformat": 4,
 "nbformat_minor": 2
}
